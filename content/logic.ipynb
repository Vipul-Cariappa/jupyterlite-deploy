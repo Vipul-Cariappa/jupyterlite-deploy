{
  "cells": [
    {
      "cell_type": "code",
      "execution_count": null,
      "metadata": {},
      "outputs": [],
      "source": [
        "%pip install py-logic"
      ]
    },
    {
      "cell_type": "code",
      "execution_count": null,
      "metadata": {},
      "outputs": [],
      "source": [
        "from logic import Proposition, IMPLY, IFF, prove"
      ]
    },
    {
      "cell_type": "code",
      "execution_count": null,
      "metadata": {},
      "outputs": [],
      "source": [
        "# Creating propositional variables\n",
        "a = Proposition(\"a\")\n",
        "b = Proposition(\"b\")\n",
        "\n",
        "assumptions = [\n",
        "  IMPLY(a, b), # if a then b\n",
        "  ~b,          # not b\n",
        "]\n",
        "\n",
        "conclusion = ~a # not a\n",
        "\n",
        "# generating proof\n",
        "proof, truth = prove(assumptions, conclusion)\n",
        "\n",
        "print(proof)"
      ]
    }
  ],
  "metadata": {
    "kernelspec": {
      "display_name": "Python (XPython)",
      "language": "python",
      "name": "xeus-python"
    },
    "language_info": {
      "file_extension": ".py",
      "mimetype": "text/x-python",
      "name": "python",
      "version": "3.11.3"
    }
  },
  "nbformat": 4,
  "nbformat_minor": 4
}
