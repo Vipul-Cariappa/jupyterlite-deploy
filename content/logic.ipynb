{
  "metadata": {
    "kernelspec": {
      "name": "xeus-python",
      "display_name": "Python (XPython)",
      "language": "python"
    },
    "language_info": {
      "file_extension": ".py",
      "mimetype": "text/x-python",
      "name": "python",
      "version": "3.11.3"
    }
  },
  "nbformat_minor": 4,
  "nbformat": 4,
  "cells": [
    {
      "cell_type": "code",
      "source": "from logic import Proposition, IMPLY, IFF, prove",
      "metadata": {},
      "outputs": [],
      "execution_count": null
    },
    {
      "cell_type": "code",
      "source": "# Creating propositional variables\na = Proposition(\"a\")\nb = Proposition(\"b\")\n\nassumptions = [\n  IMPLY(a, b), # if a then b\n  ~b,          # not b\n]\n\nconclusion = ~a # not a\n\n# generating proof\nproof, truth = prove(assumptions, conclusion)\n\nprint(proof)",
      "metadata": {},
      "outputs": [],
      "execution_count": null
    }
  ]
}