{
 "cells": [
  {
   "cell_type": "markdown",
   "metadata": {},
   "source": [
    "<center>\n",
    "    <h1>KariLang kernel based on xeus</h1>\n",
    "</center>"
   ]
  },
  {
   "cell_type": "code",
   "execution_count": null,
   "metadata": {
    "vscode": {
     "languageId": "karilang"
    }
   },
   "outputs": [],
   "source": [
    "1 + 1;"
   ]
  },
  {
   "cell_type": "code",
   "execution_count": null,
   "metadata": {
    "vscode": {
     "languageId": "karilang"
    }
   },
   "outputs": [],
   "source": [
    "funcdef add(n1: int, n2: int) -> int = n1 + n2;"
   ]
  },
  {
   "cell_type": "code",
   "execution_count": null,
   "metadata": {
    "vscode": {
     "languageId": "karilang"
    }
   },
   "outputs": [],
   "source": [
    "add(4, 5);"
   ]
  },
  {
   "cell_type": "code",
   "execution_count": null,
   "metadata": {
    "vscode": {
     "languageId": "karilang"
    }
   },
   "outputs": [],
   "source": [
    "true || false;"
   ]
  }
 ],
 "metadata": {
  "kernelspec": {
   "display_name": "KariLang 0.0.1 (xkarilang)",
   "language": "KariLang",
   "name": "xkarilang"
  },
  "language_info": {
   "codemirror_mode": "",
   "file_extension": "kari",
   "mimetype": "text/x-KariLang",
   "name": "KariLang",
   "nbconvert_exporter": "",
   "pygments_lexer": "",
   "version": "0.0.1"
  }
 },
 "nbformat": 4,
 "nbformat_minor": 4
}
